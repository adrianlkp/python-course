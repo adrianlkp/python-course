{
 "cells": [
  {
   "cell_type": "code",
   "execution_count": null,
   "metadata": {},
   "outputs": [],
   "source": [
    "# DISPLAY INSTRUCTIONS FOR NEW GAME\n",
    "def display_instructions():\n",
    "    print(\"Welcome to Tic-Tac-Toe\")\n",
    "    print(\"Enter number as illustrated on board to mark your 'X' or 'O'.\")\n",
    "    print(\"First player starts with 'X'\") "
   ]
  },
  {
   "cell_type": "code",
   "execution_count": null,
   "metadata": {},
   "outputs": [],
   "source": [
    "# DISPLAY TIC-TAC-TOE BOARD\n",
    "def display_board():\n",
    "    print('\\n Tic-Tac-Toe\\n')\n",
    "    print(f'  {board_list[6]} | {board_list[7]} | {board_list[8]}')\n",
    "    print('-------------')\n",
    "    print(f'  {board_list[3]} | {board_list[4]} | {board_list[5]}')\n",
    "    print('-------------')\n",
    "    print(f'  {board_list[0]} | {board_list[1]} | {board_list[2]}\\n')"
   ]
  },
  {
   "cell_type": "code",
   "execution_count": null,
   "metadata": {},
   "outputs": [],
   "source": [
    "# RETRIEVE PLAYER'S INPUT/POSITION TO BE MARKED\n",
    "def player_input(board_list, turn_count):\n",
    "    pos = ''\n",
    "    accepted_range = ['1','2','3','4','5','6','7','8','9']\n",
    "    accepted_value = False\n",
    "    \n",
    "    while accepted_value == False:\n",
    "        \n",
    "        # Message to player to enter input depending on turn\n",
    "        if turn_count%2 != 0:\n",
    "            pos = input(\"Player 1, enter between 1-9 to mark your 'X': \")\n",
    "            mark = 'X'\n",
    "        else:\n",
    "            pos = input(\"Player 2, enter between 1-9 to mark your 'O': \")\n",
    "            mark = 'O'\n",
    " \n",
    "        if pos not in accepted_range:\n",
    "            print('Invalid input, please enter between 1-9 only.\\n')\n",
    "        elif board_list[int(pos)-1] != ' ':\n",
    "            print('Position already has a mark, please select an empty position.\\n')\n",
    "        else:\n",
    "            accepted_value = True\n",
    "        \n",
    "    return (int(pos), mark)"
   ]
  },
  {
   "cell_type": "code",
   "execution_count": null,
   "metadata": {},
   "outputs": [],
   "source": [
    "# UPDATE THE BOARD LIST VALUES WITH PLAYER'S INPUT\n",
    "def update_board_list(board_list, pos_mark):\n",
    "    board_list[pos_mark[0]-1] = pos_mark[1] \n",
    "    return board_list"
   ]
  },
  {
   "cell_type": "code",
   "execution_count": null,
   "metadata": {},
   "outputs": [],
   "source": [
    "# CHECK IF THERE IS A WINNER\n",
    "def check_for_win(board):\n",
    "    \n",
    "    if (board[0] == board[1] == board[2] != ' ') or \\\n",
    "       (board[3] == board[4] == board[5] != ' ') or \\\n",
    "       (board[6] == board[7] == board[8] != ' ') or \\\n",
    "       (board[0] == board[3] == board[6] != ' ') or \\\n",
    "       (board[1] == board[4] == board[7] != ' ') or \\\n",
    "       (board[2] == board[5] == board[8] != ' ') or \\\n",
    "       (board[0] == board[4] == board[8] != ' ') or \\\n",
    "       (board[6] == board[4] == board[2] != ' '):\n",
    "        return 'win'\n",
    "    elif ' ' not in board:\n",
    "        return 'draw'\n",
    "    else:\n",
    "        return ''"
   ]
  },
  {
   "cell_type": "code",
   "execution_count": null,
   "metadata": {},
   "outputs": [],
   "source": [
    "# CHECK IF PLAYER WANTS TO RESTART OR END GAME\n",
    "def restart_game():\n",
    "    y_n = ''\n",
    "        \n",
    "    while y_n not in ['Y','N']:\n",
    "        y_n = input('Do you want to restart a new game? Y or N: ')\n",
    "        \n",
    "        if y_n not in ['Y','N']:\n",
    "            print('Invalid input, please enter Y or N.')\n",
    "            \n",
    "    if y_n == 'Y':\n",
    "        return True\n",
    "    else:\n",
    "        return False"
   ]
  },
  {
   "cell_type": "code",
   "execution_count": null,
   "metadata": {},
   "outputs": [],
   "source": [
    "new_game = True\n",
    "game_completed = False\n",
    "turn_count = 1\n",
    "board_list = []\n",
    "player = ''\n",
    "\n",
    "while game_completed == False:\n",
    "    \n",
    "    # Display instructions if new game, else refresh board\n",
    "    if new_game == True:\n",
    "        board_list = [1,2,3,4,5,6,7,8,9]\n",
    "        display_instructions()\n",
    "        display_board()\n",
    "        \n",
    "        # Clear board list after initial instructions\n",
    "        board_list = [' ',' ',' ',' ',' ',' ',' ',' ',' ']  \n",
    "        new_game = False\n",
    "    else:\n",
    "        display_board()\n",
    "        \n",
    "    # Player enters input\n",
    "    pos_mark = player_input(board_list, turn_count)\n",
    "    \n",
    "    # Update and refresh board\n",
    "    board_list = update_board_list(board_list, pos_mark)\n",
    "    \n",
    "    # Check if there is a win or draw\n",
    "    if check_for_win(board_list) == 'win':\n",
    "        if turn_count%2 != 0:\n",
    "            player = 'PLAYER 1'\n",
    "        else:\n",
    "            player = 'PLAYER 2'\n",
    "        \n",
    "        display_board()\n",
    "        print(f'{player} WINS!')\n",
    "        game_completed = True\n",
    "    elif check_for_win(board_list) == 'draw':\n",
    "        display_board()\n",
    "        print('DRAW!')\n",
    "        game_completed = True\n",
    "    else:\n",
    "        game_completed = False\n",
    "            \n",
    "    turn_count += 1\n",
    "    \n",
    "    # When game is completed, check if player wants to restart game\n",
    "    if game_completed == True:\n",
    "        if restart_game() == True:\n",
    "            game_completed = False\n",
    "            turn_count = 1\n",
    "            new_game = True\n",
    "        else:\n",
    "            print('Thank you for playing!')"
   ]
  }
 ],
 "metadata": {
  "kernelspec": {
   "display_name": "Python 3",
   "language": "python",
   "name": "python3"
  },
  "language_info": {
   "codemirror_mode": {
    "name": "ipython",
    "version": 3
   },
   "file_extension": ".py",
   "mimetype": "text/x-python",
   "name": "python",
   "nbconvert_exporter": "python",
   "pygments_lexer": "ipython3",
   "version": "3.8.3"
  }
 },
 "nbformat": 4,
 "nbformat_minor": 4
}
